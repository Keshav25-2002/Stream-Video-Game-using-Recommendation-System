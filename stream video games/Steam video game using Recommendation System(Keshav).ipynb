{
 "cells": [
  {
   "cell_type": "markdown",
   "metadata": {
    "id": "WHwPI3DlzBpJ"
   },
   "source": [
    "# STEAM VIDEO GAMES RECOMMENDATION SYSTEM\n",
    "\n",
    "We need to recommend the similar games to the user based on their behaviour"
   ]
  },
  {
   "cell_type": "markdown",
   "metadata": {
    "id": "zcySz1hYzkSm"
   },
   "source": [
    "<b>About dataset</b>\n",
    "\n",
    "This dataset is a list of user behaviors, with columns: user-id, game-title, behavior-name, value. The behaviors included are 'purchase' and 'play'. The value indicates the degree to which the behavior was performed - in the case of 'purchase' the value is always 1, and in the case of 'play' the value represents the number of hours the user has played the game.\n",
    "\n",
    "steam-200k - (199999, 5)"
   ]
  },
  {
   "cell_type": "markdown",
   "metadata": {
    "id": "7QXgFO_Zzsj6"
   },
   "source": [
    "# Columns in dataset\n",
    "user-id\n",
    "\n",
    "game-title\n",
    "\n",
    "behavior-name\n",
    "\n",
    "value\n",
    "\n",
    "0"
   ]
  },
  {
   "cell_type": "code",
   "execution_count": 2,
   "metadata": {
    "id": "UxedlBqLZiew"
   },
   "outputs": [],
   "source": [
    "# import all necessary libraries\n",
    "import pandas as pd\n",
    "import numpy as np\n",
    "import seaborn as sns\n",
    "# import cosine similarity\n",
    "from sklearn.metrics.pairwise import cosine_similarity"
   ]
  },
  {
   "cell_type": "code",
   "execution_count": 3,
   "metadata": {
    "colab": {
     "base_uri": "https://localhost:8080/",
     "height": 206
    },
    "id": "0YPYDltXZidl",
    "outputId": "cecb37c4-939f-4edc-9e44-ab9f0cf61731"
   },
   "outputs": [
    {
     "data": {
      "text/html": [
       "<div>\n",
       "<style scoped>\n",
       "    .dataframe tbody tr th:only-of-type {\n",
       "        vertical-align: middle;\n",
       "    }\n",
       "\n",
       "    .dataframe tbody tr th {\n",
       "        vertical-align: top;\n",
       "    }\n",
       "\n",
       "    .dataframe thead th {\n",
       "        text-align: right;\n",
       "    }\n",
       "</style>\n",
       "<table border=\"1\" class=\"dataframe\">\n",
       "  <thead>\n",
       "    <tr style=\"text-align: right;\">\n",
       "      <th></th>\n",
       "      <th>151603712</th>\n",
       "      <th>The Elder Scrolls V Skyrim</th>\n",
       "      <th>purchase</th>\n",
       "      <th>1.0</th>\n",
       "      <th>0</th>\n",
       "    </tr>\n",
       "  </thead>\n",
       "  <tbody>\n",
       "    <tr>\n",
       "      <th>0</th>\n",
       "      <td>151603712</td>\n",
       "      <td>The Elder Scrolls V Skyrim</td>\n",
       "      <td>play</td>\n",
       "      <td>273.0</td>\n",
       "      <td>0</td>\n",
       "    </tr>\n",
       "    <tr>\n",
       "      <th>1</th>\n",
       "      <td>151603712</td>\n",
       "      <td>Fallout 4</td>\n",
       "      <td>purchase</td>\n",
       "      <td>1.0</td>\n",
       "      <td>0</td>\n",
       "    </tr>\n",
       "    <tr>\n",
       "      <th>2</th>\n",
       "      <td>151603712</td>\n",
       "      <td>Fallout 4</td>\n",
       "      <td>play</td>\n",
       "      <td>87.0</td>\n",
       "      <td>0</td>\n",
       "    </tr>\n",
       "    <tr>\n",
       "      <th>3</th>\n",
       "      <td>151603712</td>\n",
       "      <td>Spore</td>\n",
       "      <td>purchase</td>\n",
       "      <td>1.0</td>\n",
       "      <td>0</td>\n",
       "    </tr>\n",
       "    <tr>\n",
       "      <th>4</th>\n",
       "      <td>151603712</td>\n",
       "      <td>Spore</td>\n",
       "      <td>play</td>\n",
       "      <td>14.9</td>\n",
       "      <td>0</td>\n",
       "    </tr>\n",
       "  </tbody>\n",
       "</table>\n",
       "</div>"
      ],
      "text/plain": [
       "   151603712  The Elder Scrolls V Skyrim  purchase    1.0  0\n",
       "0  151603712  The Elder Scrolls V Skyrim      play  273.0  0\n",
       "1  151603712                   Fallout 4  purchase    1.0  0\n",
       "2  151603712                   Fallout 4      play   87.0  0\n",
       "3  151603712                       Spore  purchase    1.0  0\n",
       "4  151603712                       Spore      play   14.9  0"
      ]
     },
     "execution_count": 3,
     "metadata": {},
     "output_type": "execute_result"
    }
   ],
   "source": [
    "# Read csv file using pandas\n",
    "\n",
    "all_data = pd.read_csv(\"/content/drive/MyDrive/ML work /Steam Video Games/Steam Video Games/steam-200k.csv\")\n",
    "all_data.head(5)"
   ]
  },
  {
   "cell_type": "markdown",
   "metadata": {
    "id": "h8Uu6HJ3viSr"
   },
   "source": [
    "# EDA"
   ]
  },
  {
   "cell_type": "code",
   "execution_count": 4,
   "metadata": {
    "colab": {
     "base_uri": "https://localhost:8080/",
     "height": 423
    },
    "id": "WCPhWXucZiaf",
    "outputId": "c2fc2e0e-30b0-4efd-9922-33504b40bf8b"
   },
   "outputs": [
    {
     "data": {
      "text/html": [
       "<div>\n",
       "<style scoped>\n",
       "    .dataframe tbody tr th:only-of-type {\n",
       "        vertical-align: middle;\n",
       "    }\n",
       "\n",
       "    .dataframe tbody tr th {\n",
       "        vertical-align: top;\n",
       "    }\n",
       "\n",
       "    .dataframe thead th {\n",
       "        text-align: right;\n",
       "    }\n",
       "</style>\n",
       "<table border=\"1\" class=\"dataframe\">\n",
       "  <thead>\n",
       "    <tr style=\"text-align: right;\">\n",
       "      <th></th>\n",
       "      <th>User_ID</th>\n",
       "      <th>games</th>\n",
       "      <th>Status</th>\n",
       "      <th>Hoursplay</th>\n",
       "      <th>0</th>\n",
       "    </tr>\n",
       "  </thead>\n",
       "  <tbody>\n",
       "    <tr>\n",
       "      <th>0</th>\n",
       "      <td>151603712</td>\n",
       "      <td>The Elder Scrolls V Skyrim</td>\n",
       "      <td>play</td>\n",
       "      <td>273.0</td>\n",
       "      <td>0</td>\n",
       "    </tr>\n",
       "    <tr>\n",
       "      <th>1</th>\n",
       "      <td>151603712</td>\n",
       "      <td>Fallout 4</td>\n",
       "      <td>purchase</td>\n",
       "      <td>1.0</td>\n",
       "      <td>0</td>\n",
       "    </tr>\n",
       "    <tr>\n",
       "      <th>2</th>\n",
       "      <td>151603712</td>\n",
       "      <td>Fallout 4</td>\n",
       "      <td>play</td>\n",
       "      <td>87.0</td>\n",
       "      <td>0</td>\n",
       "    </tr>\n",
       "    <tr>\n",
       "      <th>3</th>\n",
       "      <td>151603712</td>\n",
       "      <td>Spore</td>\n",
       "      <td>purchase</td>\n",
       "      <td>1.0</td>\n",
       "      <td>0</td>\n",
       "    </tr>\n",
       "    <tr>\n",
       "      <th>4</th>\n",
       "      <td>151603712</td>\n",
       "      <td>Spore</td>\n",
       "      <td>play</td>\n",
       "      <td>14.9</td>\n",
       "      <td>0</td>\n",
       "    </tr>\n",
       "    <tr>\n",
       "      <th>...</th>\n",
       "      <td>...</td>\n",
       "      <td>...</td>\n",
       "      <td>...</td>\n",
       "      <td>...</td>\n",
       "      <td>...</td>\n",
       "    </tr>\n",
       "    <tr>\n",
       "      <th>199994</th>\n",
       "      <td>128470551</td>\n",
       "      <td>Titan Souls</td>\n",
       "      <td>play</td>\n",
       "      <td>1.5</td>\n",
       "      <td>0</td>\n",
       "    </tr>\n",
       "    <tr>\n",
       "      <th>199995</th>\n",
       "      <td>128470551</td>\n",
       "      <td>Grand Theft Auto Vice City</td>\n",
       "      <td>purchase</td>\n",
       "      <td>1.0</td>\n",
       "      <td>0</td>\n",
       "    </tr>\n",
       "    <tr>\n",
       "      <th>199996</th>\n",
       "      <td>128470551</td>\n",
       "      <td>Grand Theft Auto Vice City</td>\n",
       "      <td>play</td>\n",
       "      <td>1.5</td>\n",
       "      <td>0</td>\n",
       "    </tr>\n",
       "    <tr>\n",
       "      <th>199997</th>\n",
       "      <td>128470551</td>\n",
       "      <td>RUSH</td>\n",
       "      <td>purchase</td>\n",
       "      <td>1.0</td>\n",
       "      <td>0</td>\n",
       "    </tr>\n",
       "    <tr>\n",
       "      <th>199998</th>\n",
       "      <td>128470551</td>\n",
       "      <td>RUSH</td>\n",
       "      <td>play</td>\n",
       "      <td>1.4</td>\n",
       "      <td>0</td>\n",
       "    </tr>\n",
       "  </tbody>\n",
       "</table>\n",
       "<p>199999 rows × 5 columns</p>\n",
       "</div>"
      ],
      "text/plain": [
       "          User_ID                       games    Status  Hoursplay  0\n",
       "0       151603712  The Elder Scrolls V Skyrim      play      273.0  0\n",
       "1       151603712                   Fallout 4  purchase        1.0  0\n",
       "2       151603712                   Fallout 4      play       87.0  0\n",
       "3       151603712                       Spore  purchase        1.0  0\n",
       "4       151603712                       Spore      play       14.9  0\n",
       "...           ...                         ...       ...        ... ..\n",
       "199994  128470551                 Titan Souls      play        1.5  0\n",
       "199995  128470551  Grand Theft Auto Vice City  purchase        1.0  0\n",
       "199996  128470551  Grand Theft Auto Vice City      play        1.5  0\n",
       "199997  128470551                        RUSH  purchase        1.0  0\n",
       "199998  128470551                        RUSH      play        1.4  0\n",
       "\n",
       "[199999 rows x 5 columns]"
      ]
     },
     "execution_count": 4,
     "metadata": {},
     "output_type": "execute_result"
    }
   ],
   "source": [
    "# remane the column name as games user_id, hoursplay and status\n",
    "all_data = all_data.rename(columns={\"The Elder Scrolls V Skyrim\": \"games\"})\n",
    "all_data = all_data.rename(columns={\"151603712\": \"User_ID\"})\n",
    "all_data = all_data.rename(columns={\"1.0\": \"Hoursplay\"})\n",
    "all_data = all_data.rename(columns={\"purchase\": \"Status\"})\n",
    "all_data"
   ]
  },
  {
   "cell_type": "code",
   "execution_count": 5,
   "metadata": {
    "colab": {
     "base_uri": "https://localhost:8080/",
     "height": 206
    },
    "id": "FjXsB0ixZiZb",
    "outputId": "d5fe58e2-968b-4f62-b343-29be3b5f1f05"
   },
   "outputs": [
    {
     "data": {
      "text/html": [
       "<div>\n",
       "<style scoped>\n",
       "    .dataframe tbody tr th:only-of-type {\n",
       "        vertical-align: middle;\n",
       "    }\n",
       "\n",
       "    .dataframe tbody tr th {\n",
       "        vertical-align: top;\n",
       "    }\n",
       "\n",
       "    .dataframe thead th {\n",
       "        text-align: right;\n",
       "    }\n",
       "</style>\n",
       "<table border=\"1\" class=\"dataframe\">\n",
       "  <thead>\n",
       "    <tr style=\"text-align: right;\">\n",
       "      <th></th>\n",
       "      <th>User_ID</th>\n",
       "      <th>games</th>\n",
       "      <th>Status</th>\n",
       "      <th>Hoursplay</th>\n",
       "    </tr>\n",
       "  </thead>\n",
       "  <tbody>\n",
       "    <tr>\n",
       "      <th>0</th>\n",
       "      <td>151603712</td>\n",
       "      <td>The Elder Scrolls V Skyrim</td>\n",
       "      <td>play</td>\n",
       "      <td>273.0</td>\n",
       "    </tr>\n",
       "    <tr>\n",
       "      <th>1</th>\n",
       "      <td>151603712</td>\n",
       "      <td>Fallout 4</td>\n",
       "      <td>purchase</td>\n",
       "      <td>1.0</td>\n",
       "    </tr>\n",
       "    <tr>\n",
       "      <th>2</th>\n",
       "      <td>151603712</td>\n",
       "      <td>Fallout 4</td>\n",
       "      <td>play</td>\n",
       "      <td>87.0</td>\n",
       "    </tr>\n",
       "    <tr>\n",
       "      <th>3</th>\n",
       "      <td>151603712</td>\n",
       "      <td>Spore</td>\n",
       "      <td>purchase</td>\n",
       "      <td>1.0</td>\n",
       "    </tr>\n",
       "    <tr>\n",
       "      <th>4</th>\n",
       "      <td>151603712</td>\n",
       "      <td>Spore</td>\n",
       "      <td>play</td>\n",
       "      <td>14.9</td>\n",
       "    </tr>\n",
       "  </tbody>\n",
       "</table>\n",
       "</div>"
      ],
      "text/plain": [
       "     User_ID                       games    Status  Hoursplay\n",
       "0  151603712  The Elder Scrolls V Skyrim      play      273.0\n",
       "1  151603712                   Fallout 4  purchase        1.0\n",
       "2  151603712                   Fallout 4      play       87.0\n",
       "3  151603712                       Spore  purchase        1.0\n",
       "4  151603712                       Spore      play       14.9"
      ]
     },
     "execution_count": 5,
     "metadata": {},
     "output_type": "execute_result"
    }
   ],
   "source": [
    "#drop 0 column\n",
    "all_data = all_data.drop(columns=['0'])\n",
    "all_data.head()"
   ]
  },
  {
   "cell_type": "code",
   "execution_count": null,
   "metadata": {
    "id": "QeH3M09xJCC-"
   },
   "outputs": [],
   "source": [
    "#drop duplicate user_id and games keep the last one\n",
    "all_data = all_data.drop_duplicates(['User_ID', 'games'], keep = 'last')"
   ]
  },
  {
   "cell_type": "code",
   "execution_count": null,
   "metadata": {
    "colab": {
     "base_uri": "https://localhost:8080/"
    },
    "id": "GKdK4DCiv9k8",
    "outputId": "16f7a409-70f9-403a-e4ac-ca90ba6a73f3"
   },
   "outputs": [
    {
     "data": {
      "text/plain": [
       "(199999, 4)"
      ]
     },
     "execution_count": 53,
     "metadata": {},
     "output_type": "execute_result"
    }
   ],
   "source": [
    "#check the shape of the dataset\n",
    "all_data.shape"
   ]
  },
  {
   "cell_type": "code",
   "execution_count": null,
   "metadata": {
    "colab": {
     "base_uri": "https://localhost:8080/"
    },
    "id": "cFWsJSFav9jQ",
    "outputId": "579b3f6d-366f-445f-9593-8c972183f01d"
   },
   "outputs": [
    {
     "data": {
      "text/plain": [
       "Index(['User_ID', 'games', 'Status', 'Hoursplay'], dtype='object')"
      ]
     },
     "execution_count": 54,
     "metadata": {},
     "output_type": "execute_result"
    }
   ],
   "source": [
    "#check columns of the dataset\n",
    "all_data.columns"
   ]
  },
  {
   "cell_type": "code",
   "execution_count": null,
   "metadata": {
    "colab": {
     "base_uri": "https://localhost:8080/"
    },
    "id": "cfmQuScuv9gu",
    "outputId": "c0bb323b-a610-40ef-c4f6-1cf46812fa23"
   },
   "outputs": [
    {
     "name": "stdout",
     "output_type": "stream",
     "text": [
      "<class 'pandas.core.frame.DataFrame'>\n",
      "RangeIndex: 199999 entries, 0 to 199998\n",
      "Data columns (total 4 columns):\n",
      " #   Column     Non-Null Count   Dtype  \n",
      "---  ------     --------------   -----  \n",
      " 0   User_ID    199999 non-null  int64  \n",
      " 1   games      199999 non-null  object \n",
      " 2   Status     199999 non-null  object \n",
      " 3   Hoursplay  199999 non-null  float64\n",
      "dtypes: float64(1), int64(1), object(2)\n",
      "memory usage: 6.1+ MB\n"
     ]
    }
   ],
   "source": [
    "# Check which columns are having categorical, numerical or boolean values of dataset\n",
    "all_data.info()"
   ]
  },
  {
   "cell_type": "code",
   "execution_count": null,
   "metadata": {
    "colab": {
     "base_uri": "https://localhost:8080/"
    },
    "id": "4SAr4k5Wv9eS",
    "outputId": "d426082e-6977-462f-deed-14febbe7a89f"
   },
   "outputs": [
    {
     "data": {
      "text/plain": [
       "User_ID      0\n",
       "games        0\n",
       "Status       0\n",
       "Hoursplay    0\n",
       "dtype: int64"
      ]
     },
     "execution_count": 56,
     "metadata": {},
     "output_type": "execute_result"
    }
   ],
   "source": [
    "# Check for missing values in all the columnns of the train_dataset\n",
    "all_data.isnull().sum()"
   ]
  },
  {
   "cell_type": "code",
   "execution_count": null,
   "metadata": {
    "colab": {
     "base_uri": "https://localhost:8080/"
    },
    "id": "fGOiyPTkv9cC",
    "outputId": "8e79cfab-684e-4946-9009-eec50c229583"
   },
   "outputs": [
    {
     "data": {
      "text/plain": [
       "Dota 2                             9682\n",
       "Team Fortress 2                    4646\n",
       "Counter-Strike Global Offensive    2789\n",
       "Unturned                           2632\n",
       "Left 4 Dead 2                      1752\n",
       "                                   ... \n",
       "Trainz Classic Cabon City             1\n",
       "Flashout 2                            1\n",
       "Dark Forester                         1\n",
       "Deep Dungeons of Doom                 1\n",
       "Musclecar Online                      1\n",
       "Name: games, Length: 5155, dtype: int64"
      ]
     },
     "execution_count": 57,
     "metadata": {},
     "output_type": "execute_result"
    }
   ],
   "source": [
    "# get how many unique values are in games column of dataset\n",
    "all_data[\"games\"].value_counts()"
   ]
  },
  {
   "cell_type": "code",
   "execution_count": null,
   "metadata": {
    "colab": {
     "base_uri": "https://localhost:8080/"
    },
    "id": "QgE7Fw_Nv9aA",
    "outputId": "e6fe27be-2d96-4b89-b7f9-8211783d2f43"
   },
   "outputs": [
    {
     "data": {
      "text/plain": [
       "Status\n",
       "play         70489\n",
       "purchase    129510\n",
       "Name: Status, dtype: int64"
      ]
     },
     "execution_count": 58,
     "metadata": {},
     "output_type": "execute_result"
    }
   ],
   "source": [
    "# get the total count of play and total count of purchase\n",
    "total_purchase = all_data.groupby('Status')['Status'].agg('count')\n",
    "total_purchase"
   ]
  },
  {
   "cell_type": "code",
   "execution_count": null,
   "metadata": {
    "colab": {
     "base_uri": "https://localhost:8080/",
     "height": 297
    },
    "id": "1VxaHrDfv9Wo",
    "outputId": "065ab338-92b6-44f5-b1f4-9c027d84cf80"
   },
   "outputs": [
    {
     "data": {
      "text/html": [
       "<div>\n",
       "<style scoped>\n",
       "    .dataframe tbody tr th:only-of-type {\n",
       "        vertical-align: middle;\n",
       "    }\n",
       "\n",
       "    .dataframe tbody tr th {\n",
       "        vertical-align: top;\n",
       "    }\n",
       "\n",
       "    .dataframe thead th {\n",
       "        text-align: right;\n",
       "    }\n",
       "</style>\n",
       "<table border=\"1\" class=\"dataframe\">\n",
       "  <thead>\n",
       "    <tr style=\"text-align: right;\">\n",
       "      <th></th>\n",
       "      <th>User_ID</th>\n",
       "      <th>Hoursplay</th>\n",
       "    </tr>\n",
       "  </thead>\n",
       "  <tbody>\n",
       "    <tr>\n",
       "      <th>count</th>\n",
       "      <td>1.999990e+05</td>\n",
       "      <td>199999.000000</td>\n",
       "    </tr>\n",
       "    <tr>\n",
       "      <th>mean</th>\n",
       "      <td>1.036556e+08</td>\n",
       "      <td>17.874468</td>\n",
       "    </tr>\n",
       "    <tr>\n",
       "      <th>std</th>\n",
       "      <td>7.208084e+07</td>\n",
       "      <td>138.057292</td>\n",
       "    </tr>\n",
       "    <tr>\n",
       "      <th>min</th>\n",
       "      <td>5.250000e+03</td>\n",
       "      <td>0.100000</td>\n",
       "    </tr>\n",
       "    <tr>\n",
       "      <th>25%</th>\n",
       "      <td>4.738420e+07</td>\n",
       "      <td>1.000000</td>\n",
       "    </tr>\n",
       "    <tr>\n",
       "      <th>50%</th>\n",
       "      <td>8.691201e+07</td>\n",
       "      <td>1.000000</td>\n",
       "    </tr>\n",
       "    <tr>\n",
       "      <th>75%</th>\n",
       "      <td>1.542309e+08</td>\n",
       "      <td>1.300000</td>\n",
       "    </tr>\n",
       "    <tr>\n",
       "      <th>max</th>\n",
       "      <td>3.099031e+08</td>\n",
       "      <td>11754.000000</td>\n",
       "    </tr>\n",
       "  </tbody>\n",
       "</table>\n",
       "</div>"
      ],
      "text/plain": [
       "            User_ID      Hoursplay\n",
       "count  1.999990e+05  199999.000000\n",
       "mean   1.036556e+08      17.874468\n",
       "std    7.208084e+07     138.057292\n",
       "min    5.250000e+03       0.100000\n",
       "25%    4.738420e+07       1.000000\n",
       "50%    8.691201e+07       1.000000\n",
       "75%    1.542309e+08       1.300000\n",
       "max    3.099031e+08   11754.000000"
      ]
     },
     "execution_count": 59,
     "metadata": {},
     "output_type": "execute_result"
    }
   ],
   "source": [
    "# For more information on the dataset like the total count in all the columns\n",
    "# min, max values and more information of the respective columns  \n",
    "all_data.describe()"
   ]
  },
  {
   "cell_type": "markdown",
   "metadata": {
    "id": "3CgbroNkKA5F"
   },
   "source": [
    "## visualizing data"
   ]
  },
  {
   "cell_type": "code",
   "execution_count": null,
   "metadata": {
    "colab": {
     "base_uri": "https://localhost:8080/",
     "height": 565
    },
    "id": "5OuxsDTIv9VK",
    "outputId": "9b3b61f3-4ee4-4d40-fc38-8beecda3ea09"
   },
   "outputs": [
    {
     "data": {
      "text/plain": [
       "array([[<matplotlib.axes._subplots.AxesSubplot object at 0x7fc1cd81e8d0>,\n",
       "        <matplotlib.axes._subplots.AxesSubplot object at 0x7fc1cd7dfb10>]],\n",
       "      dtype=object)"
      ]
     },
     "execution_count": 60,
     "metadata": {},
     "output_type": "execute_result"
    },
    {
     "data": {
      "image/png": "[encoded data removed]",
      "text/plain": [
       "<Figure size 1080x576 with 2 Axes>"
      ]
     },
     "metadata": {
      "needs_background": "light"
     },
     "output_type": "display_data"
    }
   ],
   "source": [
    "# Histogram using pandas \n",
    "all_data.hist(figsize=(15,8))"
   ]
  },
  {
   "cell_type": "code",
   "execution_count": null,
   "metadata": {
    "colab": {
     "base_uri": "https://localhost:8080/",
     "height": 281
    },
    "id": "8XQcDkwiv9Rx",
    "outputId": "95b94297-5636-4eef-d131-0c45157a73d7"
   },
   "outputs": [
    {
     "data": {
      "image/png": "[encoded data removed]",
      "text/plain": [
       "<Figure size 432x288 with 1 Axes>"
      ]
     },
     "metadata": {
      "needs_background": "light"
     },
     "output_type": "display_data"
    }
   ],
   "source": [
    "# plot a horizontal bar plot of column status\n",
    "all_data[\"Status\"].value_counts().plot.barh().set_title(\"Status column frequency\");"
   ]
  },
  {
   "cell_type": "code",
   "execution_count": null,
   "metadata": {
    "colab": {
     "base_uri": "https://localhost:8080/",
     "height": 283
    },
    "id": "o45Z0Ngav9Mt",
    "outputId": "0e5c4971-b28c-4b4b-f738-37c68cfb116f"
   },
   "outputs": [
    {
     "data": {
      "text/plain": [
       "<matplotlib.axes._subplots.AxesSubplot at 0x7fc1cd083bd0>"
      ]
     },
     "execution_count": 63,
     "metadata": {},
     "output_type": "execute_result"
    },
    {
     "data": {
      "image/png": "[encoded data removed]",
      "text/plain": [
       "<Figure size 432x288 with 1 Axes>"
      ]
     },
     "metadata": {
      "needs_background": "light"
     },
     "output_type": "display_data"
    }
   ],
   "source": [
    "#plot a count plot of hoursplay column\n",
    "all_data[\"Hoursplay\"].plot()\n"
   ]
  },
  {
   "cell_type": "code",
   "execution_count": null,
   "metadata": {
    "colab": {
     "base_uri": "https://localhost:8080/",
     "height": 338
    },
    "id": "e2ddFJDbv9La",
    "outputId": "f01df9ee-98f4-4dff-aa9c-c72c23f41cab"
   },
   "outputs": [
    {
     "data": {
      "text/plain": [
       "<matplotlib.axes._subplots.AxesSubplot at 0x7fc1c87f3910>"
      ]
     },
     "execution_count": 64,
     "metadata": {},
     "output_type": "execute_result"
    },
    {
     "data": {
      "image/png": "[encoded data removed]",
      "text/plain": [
       "<Figure size 720x360 with 1 Axes>"
      ]
     },
     "metadata": {
      "needs_background": "light"
     },
     "output_type": "display_data"
    }
   ],
   "source": [
    "# plot a horizontal bar plot of games column for top 30 games\n",
    "all_data['games'].value_counts().head(30).plot(kind='barh', figsize=(10,5))"
   ]
  },
  {
   "cell_type": "code",
   "execution_count": null,
   "metadata": {
    "colab": {
     "base_uri": "https://localhost:8080/",
     "height": 297
    },
    "id": "eZUuyLejv9IQ",
    "outputId": "37257f4a-7222-4fe9-8295-55d98f701eed"
   },
   "outputs": [
    {
     "data": {
      "text/plain": [
       "<matplotlib.axes._subplots.AxesSubplot at 0x7fc1c8731710>"
      ]
     },
     "execution_count": 65,
     "metadata": {},
     "output_type": "execute_result"
    },
    {
     "data": {
      "image/png": "[encoded data removed]",
      "text/plain": [
       "<Figure size 432x288 with 1 Axes>"
      ]
     },
     "metadata": {
      "needs_background": "light"
     },
     "output_type": "display_data"
    }
   ],
   "source": [
    "# plot a boxplot of status as x-axis and hoursplay as y-axis\n",
    "sns.boxplot(x='Status',y='Hoursplay',data=all_data,palette='rainbow')\n"
   ]
  },
  {
   "cell_type": "markdown",
   "metadata": {
    "id": "oLP2qFAMvcK8"
   },
   "source": [
    "# converting hours to rating"
   ]
  },
  {
   "cell_type": "code",
   "execution_count": 7,
   "metadata": {
    "colab": {
     "base_uri": "https://localhost:8080/",
     "height": 527
    },
    "id": "eiGi1BNMZiT2",
    "outputId": "583a5f9a-7579-4565-8ba2-deb933b20826"
   },
   "outputs": [
    {
     "name": "stderr",
     "output_type": "stream",
     "text": [
      "/usr/local/lib/python3.7/dist-packages/ipykernel_launcher.py:7: SettingWithCopyWarning: \n",
      "A value is trying to be set on a copy of a slice from a DataFrame.\n",
      "Try using .loc[row_indexer,col_indexer] = value instead\n",
      "\n",
      "See the caveats in the documentation: https://pandas.pydata.org/pandas-docs/stable/user_guide/indexing.html#returning-a-view-versus-a-copy\n",
      "  import sys\n"
     ]
    },
    {
     "data": {
      "text/html": [
       "<div>\n",
       "<style scoped>\n",
       "    .dataframe tbody tr th:only-of-type {\n",
       "        vertical-align: middle;\n",
       "    }\n",
       "\n",
       "    .dataframe tbody tr th {\n",
       "        vertical-align: top;\n",
       "    }\n",
       "\n",
       "    .dataframe thead th {\n",
       "        text-align: right;\n",
       "    }\n",
       "</style>\n",
       "<table border=\"1\" class=\"dataframe\">\n",
       "  <thead>\n",
       "    <tr style=\"text-align: right;\">\n",
       "      <th></th>\n",
       "      <th>User_ID</th>\n",
       "      <th>games</th>\n",
       "      <th>Status</th>\n",
       "      <th>Hoursplay</th>\n",
       "      <th>avg_Hoursplay</th>\n",
       "      <th>rating</th>\n",
       "    </tr>\n",
       "  </thead>\n",
       "  <tbody>\n",
       "    <tr>\n",
       "      <th>0</th>\n",
       "      <td>151603712</td>\n",
       "      <td>The Elder Scrolls V Skyrim</td>\n",
       "      <td>play</td>\n",
       "      <td>273.0</td>\n",
       "      <td>115.351792</td>\n",
       "      <td>5</td>\n",
       "    </tr>\n",
       "    <tr>\n",
       "      <th>1</th>\n",
       "      <td>59945701</td>\n",
       "      <td>The Elder Scrolls V Skyrim</td>\n",
       "      <td>play</td>\n",
       "      <td>58.0</td>\n",
       "      <td>115.351792</td>\n",
       "      <td>3</td>\n",
       "    </tr>\n",
       "    <tr>\n",
       "      <th>2</th>\n",
       "      <td>92107940</td>\n",
       "      <td>The Elder Scrolls V Skyrim</td>\n",
       "      <td>play</td>\n",
       "      <td>110.0</td>\n",
       "      <td>115.351792</td>\n",
       "      <td>5</td>\n",
       "    </tr>\n",
       "    <tr>\n",
       "      <th>3</th>\n",
       "      <td>250006052</td>\n",
       "      <td>The Elder Scrolls V Skyrim</td>\n",
       "      <td>play</td>\n",
       "      <td>465.0</td>\n",
       "      <td>115.351792</td>\n",
       "      <td>5</td>\n",
       "    </tr>\n",
       "    <tr>\n",
       "      <th>4</th>\n",
       "      <td>11373749</td>\n",
       "      <td>The Elder Scrolls V Skyrim</td>\n",
       "      <td>play</td>\n",
       "      <td>220.0</td>\n",
       "      <td>115.351792</td>\n",
       "      <td>5</td>\n",
       "    </tr>\n",
       "    <tr>\n",
       "      <th>...</th>\n",
       "      <td>...</td>\n",
       "      <td>...</td>\n",
       "      <td>...</td>\n",
       "      <td>...</td>\n",
       "      <td>...</td>\n",
       "      <td>...</td>\n",
       "    </tr>\n",
       "    <tr>\n",
       "      <th>36415</th>\n",
       "      <td>51822361</td>\n",
       "      <td>Warhammer 40,000 Dawn of War  Soulstorm</td>\n",
       "      <td>play</td>\n",
       "      <td>23.0</td>\n",
       "      <td>14.109091</td>\n",
       "      <td>5</td>\n",
       "    </tr>\n",
       "    <tr>\n",
       "      <th>36416</th>\n",
       "      <td>38317154</td>\n",
       "      <td>Warhammer 40,000 Dawn of War  Soulstorm</td>\n",
       "      <td>play</td>\n",
       "      <td>5.5</td>\n",
       "      <td>14.109091</td>\n",
       "      <td>2</td>\n",
       "    </tr>\n",
       "    <tr>\n",
       "      <th>36417</th>\n",
       "      <td>36404933</td>\n",
       "      <td>Warhammer 40,000 Dawn of War  Soulstorm</td>\n",
       "      <td>play</td>\n",
       "      <td>5.8</td>\n",
       "      <td>14.109091</td>\n",
       "      <td>3</td>\n",
       "    </tr>\n",
       "    <tr>\n",
       "      <th>36418</th>\n",
       "      <td>87201181</td>\n",
       "      <td>Warhammer 40,000 Dawn of War  Soulstorm</td>\n",
       "      <td>play</td>\n",
       "      <td>24.0</td>\n",
       "      <td>14.109091</td>\n",
       "      <td>5</td>\n",
       "    </tr>\n",
       "    <tr>\n",
       "      <th>36419</th>\n",
       "      <td>34901647</td>\n",
       "      <td>Warhammer 40,000 Dawn of War  Soulstorm</td>\n",
       "      <td>play</td>\n",
       "      <td>15.4</td>\n",
       "      <td>14.109091</td>\n",
       "      <td>5</td>\n",
       "    </tr>\n",
       "  </tbody>\n",
       "</table>\n",
       "<p>36420 rows × 6 columns</p>\n",
       "</div>"
      ],
      "text/plain": [
       "         User_ID  ... rating\n",
       "0      151603712  ...      5\n",
       "1       59945701  ...      3\n",
       "2       92107940  ...      5\n",
       "3      250006052  ...      5\n",
       "4       11373749  ...      5\n",
       "...          ...  ...    ...\n",
       "36415   51822361  ...      5\n",
       "36416   38317154  ...      2\n",
       "36417   36404933  ...      3\n",
       "36418   87201181  ...      5\n",
       "36419   34901647  ...      5\n",
       "\n",
       "[36420 rows x 6 columns]"
      ]
     },
     "execution_count": 7,
     "metadata": {},
     "output_type": "execute_result"
    }
   ],
   "source": [
    "# comvert the hoursplay into rating\n",
    "all_data = all_data[(all_data['Hoursplay']>=2) & (all_data['Status']=='play')]\n",
    "all_data_filtered = all_data[all_data.groupby('games').User_ID.transform(len) >= 20]\n",
    "all_data_filtered['games'].nunique()\n",
    "all_data_filtered.head(20)\n",
    "\n",
    "all_data_filtered['User_ID'] = all_data_filtered['User_ID'].astype(str)\n",
    "averages = all_data_filtered.groupby(['games'],as_index=False).Hoursplay.mean()\n",
    "averages['avg_Hoursplay'] = averages['Hoursplay']\n",
    "averages.drop('Hoursplay',axis=1,inplace=True)\n",
    "\n",
    "\n",
    "final_ratings = pd.merge(all_data_filtered,averages[['games','avg_Hoursplay']],on='games')\n",
    "conditions = [\n",
    "    (final_ratings['Hoursplay']>=0.8*final_ratings['avg_Hoursplay']),\n",
    "    (final_ratings['Hoursplay']>=0.6*final_ratings['avg_Hoursplay']) & (final_ratings['Hoursplay']<0.8*final_ratings['avg_Hoursplay']),\n",
    "    (final_ratings['Hoursplay']>=0.4*final_ratings['avg_Hoursplay']) & (final_ratings['Hoursplay']<0.6*final_ratings['avg_Hoursplay']),\n",
    "    (final_ratings['Hoursplay']>=0.2*final_ratings['avg_Hoursplay']) & (final_ratings['Hoursplay']<0.4*final_ratings['avg_Hoursplay']),\n",
    "    final_ratings['Hoursplay']>=0,\n",
    "]\n",
    "values = [5,4,3,2,1]\n",
    "final_ratings['rating'] = np.select(conditions,values)\n",
    "final_ratings"
   ]
  },
  {
   "cell_type": "code",
   "execution_count": 8,
   "metadata": {
    "colab": {
     "base_uri": "https://localhost:8080/",
     "height": 423
    },
    "id": "XXBW4xzzZiPv",
    "outputId": "ecc17db9-0d2e-4952-d1a3-ec0d9bb8e5a8"
   },
   "outputs": [
    {
     "data": {
      "text/html": [
       "<div>\n",
       "<style scoped>\n",
       "    .dataframe tbody tr th:only-of-type {\n",
       "        vertical-align: middle;\n",
       "    }\n",
       "\n",
       "    .dataframe tbody tr th {\n",
       "        vertical-align: top;\n",
       "    }\n",
       "\n",
       "    .dataframe thead th {\n",
       "        text-align: right;\n",
       "    }\n",
       "</style>\n",
       "<table border=\"1\" class=\"dataframe\">\n",
       "  <thead>\n",
       "    <tr style=\"text-align: right;\">\n",
       "      <th></th>\n",
       "      <th>User_ID</th>\n",
       "      <th>games</th>\n",
       "      <th>rating</th>\n",
       "    </tr>\n",
       "  </thead>\n",
       "  <tbody>\n",
       "    <tr>\n",
       "      <th>0</th>\n",
       "      <td>151603712</td>\n",
       "      <td>The Elder Scrolls V Skyrim</td>\n",
       "      <td>5</td>\n",
       "    </tr>\n",
       "    <tr>\n",
       "      <th>1</th>\n",
       "      <td>59945701</td>\n",
       "      <td>The Elder Scrolls V Skyrim</td>\n",
       "      <td>3</td>\n",
       "    </tr>\n",
       "    <tr>\n",
       "      <th>2</th>\n",
       "      <td>92107940</td>\n",
       "      <td>The Elder Scrolls V Skyrim</td>\n",
       "      <td>5</td>\n",
       "    </tr>\n",
       "    <tr>\n",
       "      <th>3</th>\n",
       "      <td>250006052</td>\n",
       "      <td>The Elder Scrolls V Skyrim</td>\n",
       "      <td>5</td>\n",
       "    </tr>\n",
       "    <tr>\n",
       "      <th>4</th>\n",
       "      <td>11373749</td>\n",
       "      <td>The Elder Scrolls V Skyrim</td>\n",
       "      <td>5</td>\n",
       "    </tr>\n",
       "    <tr>\n",
       "      <th>...</th>\n",
       "      <td>...</td>\n",
       "      <td>...</td>\n",
       "      <td>...</td>\n",
       "    </tr>\n",
       "    <tr>\n",
       "      <th>36415</th>\n",
       "      <td>51822361</td>\n",
       "      <td>Warhammer 40,000 Dawn of War  Soulstorm</td>\n",
       "      <td>5</td>\n",
       "    </tr>\n",
       "    <tr>\n",
       "      <th>36416</th>\n",
       "      <td>38317154</td>\n",
       "      <td>Warhammer 40,000 Dawn of War  Soulstorm</td>\n",
       "      <td>2</td>\n",
       "    </tr>\n",
       "    <tr>\n",
       "      <th>36417</th>\n",
       "      <td>36404933</td>\n",
       "      <td>Warhammer 40,000 Dawn of War  Soulstorm</td>\n",
       "      <td>3</td>\n",
       "    </tr>\n",
       "    <tr>\n",
       "      <th>36418</th>\n",
       "      <td>87201181</td>\n",
       "      <td>Warhammer 40,000 Dawn of War  Soulstorm</td>\n",
       "      <td>5</td>\n",
       "    </tr>\n",
       "    <tr>\n",
       "      <th>36419</th>\n",
       "      <td>34901647</td>\n",
       "      <td>Warhammer 40,000 Dawn of War  Soulstorm</td>\n",
       "      <td>5</td>\n",
       "    </tr>\n",
       "  </tbody>\n",
       "</table>\n",
       "<p>36420 rows × 3 columns</p>\n",
       "</div>"
      ],
      "text/plain": [
       "         User_ID                                    games  rating\n",
       "0      151603712               The Elder Scrolls V Skyrim       5\n",
       "1       59945701               The Elder Scrolls V Skyrim       3\n",
       "2       92107940               The Elder Scrolls V Skyrim       5\n",
       "3      250006052               The Elder Scrolls V Skyrim       5\n",
       "4       11373749               The Elder Scrolls V Skyrim       5\n",
       "...          ...                                      ...     ...\n",
       "36415   51822361  Warhammer 40,000 Dawn of War  Soulstorm       5\n",
       "36416   38317154  Warhammer 40,000 Dawn of War  Soulstorm       2\n",
       "36417   36404933  Warhammer 40,000 Dawn of War  Soulstorm       3\n",
       "36418   87201181  Warhammer 40,000 Dawn of War  Soulstorm       5\n",
       "36419   34901647  Warhammer 40,000 Dawn of War  Soulstorm       5\n",
       "\n",
       "[36420 rows x 3 columns]"
      ]
     },
     "execution_count": 8,
     "metadata": {},
     "output_type": "execute_result"
    }
   ],
   "source": [
    "# keep only important columns( user_id, games,rating ) drop everthing else \n",
    "final_ratings = final_ratings.drop(['Status','Hoursplay','avg_Hoursplay'],axis =1)\n",
    "final_ratings"
   ]
  },
  {
   "cell_type": "markdown",
   "metadata": {
    "id": "fUuhTgxTvWAL"
   },
   "source": [
    "# MEMORY BASED COLLABORATIVE FILTERING\n",
    "\n",
    "Memory-based algorithms approach the collaborative filtering problem by using the entire database.It tries to find users that are similar to the active user (i.e. the users we want to make predictions for), and uses their preferences to predict ratings for the active user."
   ]
  },
  {
   "cell_type": "code",
   "execution_count": 9,
   "metadata": {
    "id": "Ldaj40pJc5Lr"
   },
   "outputs": [],
   "source": [
    "#import pairwise_distances, cosine, corelation\n",
    "from sklearn.metrics.pairwise import pairwise_distances\n",
    "from scipy.spatial.distance import cosine, correlation"
   ]
  },
  {
   "cell_type": "code",
   "execution_count": 10,
   "metadata": {
    "id": "J8C5ykDCUbQe"
   },
   "outputs": [],
   "source": [
    "# create pivot table containing user_id as index, games as columns, ratings as values\n",
    "piv = final_ratings.pivot_table(index=['User_ID'], columns=['games'], values='rating')"
   ]
  },
  {
   "cell_type": "code",
   "execution_count": 11,
   "metadata": {
    "colab": {
     "base_uri": "https://localhost:8080/",
     "height": 391
    },
    "id": "Lbgw7l06UbOx",
    "outputId": "5e9053fd-1c01-46e8-cd5a-e5cfeea1ab45"
   },
   "outputs": [
    {
     "name": "stdout",
     "output_type": "stream",
     "text": [
      "(8309, 427)\n"
     ]
    },
    {
     "data": {
      "text/html": [
       "<div>\n",
       "<style scoped>\n",
       "    .dataframe tbody tr th:only-of-type {\n",
       "        vertical-align: middle;\n",
       "    }\n",
       "\n",
       "    .dataframe tbody tr th {\n",
       "        vertical-align: top;\n",
       "    }\n",
       "\n",
       "    .dataframe thead th {\n",
       "        text-align: right;\n",
       "    }\n",
       "</style>\n",
       "<table border=\"1\" class=\"dataframe\">\n",
       "  <thead>\n",
       "    <tr style=\"text-align: right;\">\n",
       "      <th>games</th>\n",
       "      <th>7 Days to Die</th>\n",
       "      <th>APB Reloaded</th>\n",
       "      <th>ARK Survival Evolved</th>\n",
       "      <th>Ace of Spades</th>\n",
       "      <th>AdVenture Capitalist</th>\n",
       "      <th>Aftermath</th>\n",
       "      <th>Age of Chivalry</th>\n",
       "      <th>Age of Empires II HD Edition</th>\n",
       "      <th>Age of Empires III Complete Collection</th>\n",
       "      <th>Age of Mythology Extended Edition</th>\n",
       "      <th>Age of Wonders III</th>\n",
       "      <th>AirMech</th>\n",
       "      <th>Alan Wake</th>\n",
       "      <th>Alice Madness Returns</th>\n",
       "      <th>Alien Isolation</th>\n",
       "      <th>Alien Swarm</th>\n",
       "      <th>Aliens vs. Predator</th>\n",
       "      <th>America's Army Proving Grounds</th>\n",
       "      <th>Amnesia The Dark Descent</th>\n",
       "      <th>Anno 2070</th>\n",
       "      <th>Antichamber</th>\n",
       "      <th>Archeblade</th>\n",
       "      <th>Arma 2</th>\n",
       "      <th>Arma 2 Operation Arrowhead</th>\n",
       "      <th>Arma 3</th>\n",
       "      <th>Assassin's Creed</th>\n",
       "      <th>Assassin's Creed Brotherhood</th>\n",
       "      <th>Assassin's Creed II</th>\n",
       "      <th>Assassin's Creed III</th>\n",
       "      <th>Assassin's Creed IV Black Flag</th>\n",
       "      <th>Assassin's Creed Revelations</th>\n",
       "      <th>Audiosurf</th>\n",
       "      <th>Awesomenauts</th>\n",
       "      <th>BLOCKADE 3D</th>\n",
       "      <th>BRINK</th>\n",
       "      <th>Baldur's Gate Enhanced Edition</th>\n",
       "      <th>Banished</th>\n",
       "      <th>Bastion</th>\n",
       "      <th>Batman Arkham Asylum GOTY Edition</th>\n",
       "      <th>Batman Arkham City</th>\n",
       "      <th>...</th>\n",
       "      <th>Torchlight II</th>\n",
       "      <th>Toribash</th>\n",
       "      <th>Total War ATTILA</th>\n",
       "      <th>Total War ROME II - Emperor Edition</th>\n",
       "      <th>Total War SHOGUN 2</th>\n",
       "      <th>Train Simulator</th>\n",
       "      <th>Transformice</th>\n",
       "      <th>Transistor</th>\n",
       "      <th>Trials Evolution Gold Edition</th>\n",
       "      <th>Trine</th>\n",
       "      <th>Trine 2</th>\n",
       "      <th>Tropico 4</th>\n",
       "      <th>Tropico 5</th>\n",
       "      <th>Trove</th>\n",
       "      <th>Ultra Street Fighter IV</th>\n",
       "      <th>Undertale</th>\n",
       "      <th>Unreal Tournament 3 Black Edition</th>\n",
       "      <th>Unturned</th>\n",
       "      <th>Valkyria Chronicles</th>\n",
       "      <th>Vampire The Masquerade - Bloodlines</th>\n",
       "      <th>WAKFU</th>\n",
       "      <th>War Thunder</th>\n",
       "      <th>War of the Roses</th>\n",
       "      <th>Warface</th>\n",
       "      <th>Warframe</th>\n",
       "      <th>Wargame European Escalation</th>\n",
       "      <th>Wargame Red Dragon</th>\n",
       "      <th>Warhammer 40,000 Dawn of War  Soulstorm</th>\n",
       "      <th>Warhammer 40,000 Dawn of War II</th>\n",
       "      <th>Warhammer 40,000 Dawn of War II  Retribution</th>\n",
       "      <th>Warhammer 40,000 Dawn of War II - Chaos Rising</th>\n",
       "      <th>Warhammer 40,000 Space Marine</th>\n",
       "      <th>Wasteland 2</th>\n",
       "      <th>Watch_Dogs</th>\n",
       "      <th>Wolfenstein The New Order</th>\n",
       "      <th>Worms Reloaded</th>\n",
       "      <th>Worms Revolution</th>\n",
       "      <th>XCOM Enemy Unknown</th>\n",
       "      <th>Zombie Panic Source</th>\n",
       "      <th>theHunter</th>\n",
       "    </tr>\n",
       "    <tr>\n",
       "      <th>User_ID</th>\n",
       "      <th></th>\n",
       "      <th></th>\n",
       "      <th></th>\n",
       "      <th></th>\n",
       "      <th></th>\n",
       "      <th></th>\n",
       "      <th></th>\n",
       "      <th></th>\n",
       "      <th></th>\n",
       "      <th></th>\n",
       "      <th></th>\n",
       "      <th></th>\n",
       "      <th></th>\n",
       "      <th></th>\n",
       "      <th></th>\n",
       "      <th></th>\n",
       "      <th></th>\n",
       "      <th></th>\n",
       "      <th></th>\n",
       "      <th></th>\n",
       "      <th></th>\n",
       "      <th></th>\n",
       "      <th></th>\n",
       "      <th></th>\n",
       "      <th></th>\n",
       "      <th></th>\n",
       "      <th></th>\n",
       "      <th></th>\n",
       "      <th></th>\n",
       "      <th></th>\n",
       "      <th></th>\n",
       "      <th></th>\n",
       "      <th></th>\n",
       "      <th></th>\n",
       "      <th></th>\n",
       "      <th></th>\n",
       "      <th></th>\n",
       "      <th></th>\n",
       "      <th></th>\n",
       "      <th></th>\n",
       "      <th></th>\n",
       "      <th></th>\n",
       "      <th></th>\n",
       "      <th></th>\n",
       "      <th></th>\n",
       "      <th></th>\n",
       "      <th></th>\n",
       "      <th></th>\n",
       "      <th></th>\n",
       "      <th></th>\n",
       "      <th></th>\n",
       "      <th></th>\n",
       "      <th></th>\n",
       "      <th></th>\n",
       "      <th></th>\n",
       "      <th></th>\n",
       "      <th></th>\n",
       "      <th></th>\n",
       "      <th></th>\n",
       "      <th></th>\n",
       "      <th></th>\n",
       "      <th></th>\n",
       "      <th></th>\n",
       "      <th></th>\n",
       "      <th></th>\n",
       "      <th></th>\n",
       "      <th></th>\n",
       "      <th></th>\n",
       "      <th></th>\n",
       "      <th></th>\n",
       "      <th></th>\n",
       "      <th></th>\n",
       "      <th></th>\n",
       "      <th></th>\n",
       "      <th></th>\n",
       "      <th></th>\n",
       "      <th></th>\n",
       "      <th></th>\n",
       "      <th></th>\n",
       "      <th></th>\n",
       "      <th></th>\n",
       "    </tr>\n",
       "  </thead>\n",
       "  <tbody>\n",
       "    <tr>\n",
       "      <th>100053304</th>\n",
       "      <td>NaN</td>\n",
       "      <td>NaN</td>\n",
       "      <td>NaN</td>\n",
       "      <td>NaN</td>\n",
       "      <td>NaN</td>\n",
       "      <td>NaN</td>\n",
       "      <td>NaN</td>\n",
       "      <td>NaN</td>\n",
       "      <td>NaN</td>\n",
       "      <td>NaN</td>\n",
       "      <td>NaN</td>\n",
       "      <td>NaN</td>\n",
       "      <td>NaN</td>\n",
       "      <td>NaN</td>\n",
       "      <td>NaN</td>\n",
       "      <td>NaN</td>\n",
       "      <td>NaN</td>\n",
       "      <td>NaN</td>\n",
       "      <td>NaN</td>\n",
       "      <td>NaN</td>\n",
       "      <td>NaN</td>\n",
       "      <td>NaN</td>\n",
       "      <td>NaN</td>\n",
       "      <td>NaN</td>\n",
       "      <td>NaN</td>\n",
       "      <td>NaN</td>\n",
       "      <td>NaN</td>\n",
       "      <td>NaN</td>\n",
       "      <td>NaN</td>\n",
       "      <td>NaN</td>\n",
       "      <td>NaN</td>\n",
       "      <td>NaN</td>\n",
       "      <td>NaN</td>\n",
       "      <td>NaN</td>\n",
       "      <td>NaN</td>\n",
       "      <td>NaN</td>\n",
       "      <td>NaN</td>\n",
       "      <td>NaN</td>\n",
       "      <td>NaN</td>\n",
       "      <td>NaN</td>\n",
       "      <td>...</td>\n",
       "      <td>NaN</td>\n",
       "      <td>NaN</td>\n",
       "      <td>NaN</td>\n",
       "      <td>NaN</td>\n",
       "      <td>NaN</td>\n",
       "      <td>NaN</td>\n",
       "      <td>NaN</td>\n",
       "      <td>NaN</td>\n",
       "      <td>NaN</td>\n",
       "      <td>NaN</td>\n",
       "      <td>NaN</td>\n",
       "      <td>NaN</td>\n",
       "      <td>NaN</td>\n",
       "      <td>NaN</td>\n",
       "      <td>NaN</td>\n",
       "      <td>NaN</td>\n",
       "      <td>NaN</td>\n",
       "      <td>NaN</td>\n",
       "      <td>NaN</td>\n",
       "      <td>NaN</td>\n",
       "      <td>NaN</td>\n",
       "      <td>NaN</td>\n",
       "      <td>NaN</td>\n",
       "      <td>NaN</td>\n",
       "      <td>NaN</td>\n",
       "      <td>NaN</td>\n",
       "      <td>NaN</td>\n",
       "      <td>NaN</td>\n",
       "      <td>NaN</td>\n",
       "      <td>NaN</td>\n",
       "      <td>NaN</td>\n",
       "      <td>NaN</td>\n",
       "      <td>NaN</td>\n",
       "      <td>NaN</td>\n",
       "      <td>NaN</td>\n",
       "      <td>NaN</td>\n",
       "      <td>NaN</td>\n",
       "      <td>NaN</td>\n",
       "      <td>NaN</td>\n",
       "      <td>NaN</td>\n",
       "    </tr>\n",
       "    <tr>\n",
       "      <th>100057229</th>\n",
       "      <td>NaN</td>\n",
       "      <td>NaN</td>\n",
       "      <td>NaN</td>\n",
       "      <td>NaN</td>\n",
       "      <td>NaN</td>\n",
       "      <td>NaN</td>\n",
       "      <td>NaN</td>\n",
       "      <td>NaN</td>\n",
       "      <td>NaN</td>\n",
       "      <td>NaN</td>\n",
       "      <td>NaN</td>\n",
       "      <td>NaN</td>\n",
       "      <td>NaN</td>\n",
       "      <td>NaN</td>\n",
       "      <td>NaN</td>\n",
       "      <td>NaN</td>\n",
       "      <td>NaN</td>\n",
       "      <td>NaN</td>\n",
       "      <td>NaN</td>\n",
       "      <td>NaN</td>\n",
       "      <td>NaN</td>\n",
       "      <td>NaN</td>\n",
       "      <td>NaN</td>\n",
       "      <td>NaN</td>\n",
       "      <td>NaN</td>\n",
       "      <td>NaN</td>\n",
       "      <td>NaN</td>\n",
       "      <td>NaN</td>\n",
       "      <td>NaN</td>\n",
       "      <td>NaN</td>\n",
       "      <td>NaN</td>\n",
       "      <td>NaN</td>\n",
       "      <td>NaN</td>\n",
       "      <td>NaN</td>\n",
       "      <td>NaN</td>\n",
       "      <td>NaN</td>\n",
       "      <td>NaN</td>\n",
       "      <td>NaN</td>\n",
       "      <td>NaN</td>\n",
       "      <td>NaN</td>\n",
       "      <td>...</td>\n",
       "      <td>NaN</td>\n",
       "      <td>NaN</td>\n",
       "      <td>NaN</td>\n",
       "      <td>NaN</td>\n",
       "      <td>NaN</td>\n",
       "      <td>NaN</td>\n",
       "      <td>NaN</td>\n",
       "      <td>NaN</td>\n",
       "      <td>NaN</td>\n",
       "      <td>NaN</td>\n",
       "      <td>NaN</td>\n",
       "      <td>NaN</td>\n",
       "      <td>NaN</td>\n",
       "      <td>NaN</td>\n",
       "      <td>NaN</td>\n",
       "      <td>NaN</td>\n",
       "      <td>NaN</td>\n",
       "      <td>NaN</td>\n",
       "      <td>NaN</td>\n",
       "      <td>NaN</td>\n",
       "      <td>NaN</td>\n",
       "      <td>NaN</td>\n",
       "      <td>NaN</td>\n",
       "      <td>NaN</td>\n",
       "      <td>NaN</td>\n",
       "      <td>NaN</td>\n",
       "      <td>NaN</td>\n",
       "      <td>NaN</td>\n",
       "      <td>NaN</td>\n",
       "      <td>NaN</td>\n",
       "      <td>NaN</td>\n",
       "      <td>NaN</td>\n",
       "      <td>NaN</td>\n",
       "      <td>NaN</td>\n",
       "      <td>NaN</td>\n",
       "      <td>NaN</td>\n",
       "      <td>NaN</td>\n",
       "      <td>NaN</td>\n",
       "      <td>NaN</td>\n",
       "      <td>NaN</td>\n",
       "    </tr>\n",
       "    <tr>\n",
       "      <th>100070732</th>\n",
       "      <td>NaN</td>\n",
       "      <td>NaN</td>\n",
       "      <td>NaN</td>\n",
       "      <td>NaN</td>\n",
       "      <td>NaN</td>\n",
       "      <td>NaN</td>\n",
       "      <td>NaN</td>\n",
       "      <td>NaN</td>\n",
       "      <td>NaN</td>\n",
       "      <td>NaN</td>\n",
       "      <td>NaN</td>\n",
       "      <td>NaN</td>\n",
       "      <td>NaN</td>\n",
       "      <td>NaN</td>\n",
       "      <td>NaN</td>\n",
       "      <td>NaN</td>\n",
       "      <td>NaN</td>\n",
       "      <td>NaN</td>\n",
       "      <td>NaN</td>\n",
       "      <td>NaN</td>\n",
       "      <td>NaN</td>\n",
       "      <td>NaN</td>\n",
       "      <td>NaN</td>\n",
       "      <td>NaN</td>\n",
       "      <td>NaN</td>\n",
       "      <td>NaN</td>\n",
       "      <td>NaN</td>\n",
       "      <td>NaN</td>\n",
       "      <td>NaN</td>\n",
       "      <td>NaN</td>\n",
       "      <td>NaN</td>\n",
       "      <td>NaN</td>\n",
       "      <td>NaN</td>\n",
       "      <td>NaN</td>\n",
       "      <td>NaN</td>\n",
       "      <td>NaN</td>\n",
       "      <td>NaN</td>\n",
       "      <td>NaN</td>\n",
       "      <td>NaN</td>\n",
       "      <td>NaN</td>\n",
       "      <td>...</td>\n",
       "      <td>NaN</td>\n",
       "      <td>NaN</td>\n",
       "      <td>NaN</td>\n",
       "      <td>NaN</td>\n",
       "      <td>NaN</td>\n",
       "      <td>NaN</td>\n",
       "      <td>NaN</td>\n",
       "      <td>NaN</td>\n",
       "      <td>NaN</td>\n",
       "      <td>NaN</td>\n",
       "      <td>NaN</td>\n",
       "      <td>NaN</td>\n",
       "      <td>NaN</td>\n",
       "      <td>NaN</td>\n",
       "      <td>NaN</td>\n",
       "      <td>NaN</td>\n",
       "      <td>NaN</td>\n",
       "      <td>NaN</td>\n",
       "      <td>NaN</td>\n",
       "      <td>NaN</td>\n",
       "      <td>NaN</td>\n",
       "      <td>NaN</td>\n",
       "      <td>NaN</td>\n",
       "      <td>NaN</td>\n",
       "      <td>NaN</td>\n",
       "      <td>5.0</td>\n",
       "      <td>5.0</td>\n",
       "      <td>NaN</td>\n",
       "      <td>NaN</td>\n",
       "      <td>NaN</td>\n",
       "      <td>NaN</td>\n",
       "      <td>NaN</td>\n",
       "      <td>NaN</td>\n",
       "      <td>NaN</td>\n",
       "      <td>NaN</td>\n",
       "      <td>NaN</td>\n",
       "      <td>NaN</td>\n",
       "      <td>NaN</td>\n",
       "      <td>NaN</td>\n",
       "      <td>NaN</td>\n",
       "    </tr>\n",
       "    <tr>\n",
       "      <th>100096071</th>\n",
       "      <td>NaN</td>\n",
       "      <td>NaN</td>\n",
       "      <td>NaN</td>\n",
       "      <td>NaN</td>\n",
       "      <td>NaN</td>\n",
       "      <td>NaN</td>\n",
       "      <td>NaN</td>\n",
       "      <td>NaN</td>\n",
       "      <td>NaN</td>\n",
       "      <td>NaN</td>\n",
       "      <td>NaN</td>\n",
       "      <td>NaN</td>\n",
       "      <td>NaN</td>\n",
       "      <td>NaN</td>\n",
       "      <td>NaN</td>\n",
       "      <td>NaN</td>\n",
       "      <td>NaN</td>\n",
       "      <td>NaN</td>\n",
       "      <td>NaN</td>\n",
       "      <td>NaN</td>\n",
       "      <td>NaN</td>\n",
       "      <td>NaN</td>\n",
       "      <td>NaN</td>\n",
       "      <td>NaN</td>\n",
       "      <td>NaN</td>\n",
       "      <td>NaN</td>\n",
       "      <td>NaN</td>\n",
       "      <td>NaN</td>\n",
       "      <td>NaN</td>\n",
       "      <td>NaN</td>\n",
       "      <td>NaN</td>\n",
       "      <td>NaN</td>\n",
       "      <td>NaN</td>\n",
       "      <td>NaN</td>\n",
       "      <td>NaN</td>\n",
       "      <td>NaN</td>\n",
       "      <td>NaN</td>\n",
       "      <td>NaN</td>\n",
       "      <td>NaN</td>\n",
       "      <td>NaN</td>\n",
       "      <td>...</td>\n",
       "      <td>NaN</td>\n",
       "      <td>NaN</td>\n",
       "      <td>NaN</td>\n",
       "      <td>NaN</td>\n",
       "      <td>NaN</td>\n",
       "      <td>NaN</td>\n",
       "      <td>NaN</td>\n",
       "      <td>NaN</td>\n",
       "      <td>NaN</td>\n",
       "      <td>NaN</td>\n",
       "      <td>NaN</td>\n",
       "      <td>NaN</td>\n",
       "      <td>NaN</td>\n",
       "      <td>NaN</td>\n",
       "      <td>NaN</td>\n",
       "      <td>NaN</td>\n",
       "      <td>NaN</td>\n",
       "      <td>NaN</td>\n",
       "      <td>NaN</td>\n",
       "      <td>NaN</td>\n",
       "      <td>NaN</td>\n",
       "      <td>NaN</td>\n",
       "      <td>NaN</td>\n",
       "      <td>NaN</td>\n",
       "      <td>NaN</td>\n",
       "      <td>NaN</td>\n",
       "      <td>NaN</td>\n",
       "      <td>NaN</td>\n",
       "      <td>NaN</td>\n",
       "      <td>NaN</td>\n",
       "      <td>NaN</td>\n",
       "      <td>NaN</td>\n",
       "      <td>NaN</td>\n",
       "      <td>NaN</td>\n",
       "      <td>NaN</td>\n",
       "      <td>NaN</td>\n",
       "      <td>NaN</td>\n",
       "      <td>NaN</td>\n",
       "      <td>NaN</td>\n",
       "      <td>NaN</td>\n",
       "    </tr>\n",
       "    <tr>\n",
       "      <th>100168166</th>\n",
       "      <td>NaN</td>\n",
       "      <td>NaN</td>\n",
       "      <td>NaN</td>\n",
       "      <td>NaN</td>\n",
       "      <td>NaN</td>\n",
       "      <td>NaN</td>\n",
       "      <td>NaN</td>\n",
       "      <td>NaN</td>\n",
       "      <td>NaN</td>\n",
       "      <td>NaN</td>\n",
       "      <td>NaN</td>\n",
       "      <td>NaN</td>\n",
       "      <td>NaN</td>\n",
       "      <td>NaN</td>\n",
       "      <td>NaN</td>\n",
       "      <td>NaN</td>\n",
       "      <td>NaN</td>\n",
       "      <td>NaN</td>\n",
       "      <td>NaN</td>\n",
       "      <td>NaN</td>\n",
       "      <td>NaN</td>\n",
       "      <td>NaN</td>\n",
       "      <td>NaN</td>\n",
       "      <td>NaN</td>\n",
       "      <td>NaN</td>\n",
       "      <td>NaN</td>\n",
       "      <td>NaN</td>\n",
       "      <td>NaN</td>\n",
       "      <td>NaN</td>\n",
       "      <td>NaN</td>\n",
       "      <td>NaN</td>\n",
       "      <td>NaN</td>\n",
       "      <td>NaN</td>\n",
       "      <td>NaN</td>\n",
       "      <td>NaN</td>\n",
       "      <td>NaN</td>\n",
       "      <td>NaN</td>\n",
       "      <td>NaN</td>\n",
       "      <td>NaN</td>\n",
       "      <td>NaN</td>\n",
       "      <td>...</td>\n",
       "      <td>NaN</td>\n",
       "      <td>NaN</td>\n",
       "      <td>NaN</td>\n",
       "      <td>NaN</td>\n",
       "      <td>NaN</td>\n",
       "      <td>NaN</td>\n",
       "      <td>NaN</td>\n",
       "      <td>NaN</td>\n",
       "      <td>NaN</td>\n",
       "      <td>NaN</td>\n",
       "      <td>NaN</td>\n",
       "      <td>NaN</td>\n",
       "      <td>NaN</td>\n",
       "      <td>NaN</td>\n",
       "      <td>NaN</td>\n",
       "      <td>NaN</td>\n",
       "      <td>NaN</td>\n",
       "      <td>NaN</td>\n",
       "      <td>NaN</td>\n",
       "      <td>NaN</td>\n",
       "      <td>NaN</td>\n",
       "      <td>NaN</td>\n",
       "      <td>NaN</td>\n",
       "      <td>NaN</td>\n",
       "      <td>NaN</td>\n",
       "      <td>NaN</td>\n",
       "      <td>NaN</td>\n",
       "      <td>NaN</td>\n",
       "      <td>NaN</td>\n",
       "      <td>NaN</td>\n",
       "      <td>NaN</td>\n",
       "      <td>NaN</td>\n",
       "      <td>NaN</td>\n",
       "      <td>NaN</td>\n",
       "      <td>NaN</td>\n",
       "      <td>NaN</td>\n",
       "      <td>NaN</td>\n",
       "      <td>NaN</td>\n",
       "      <td>NaN</td>\n",
       "      <td>NaN</td>\n",
       "    </tr>\n",
       "  </tbody>\n",
       "</table>\n",
       "<p>5 rows × 427 columns</p>\n",
       "</div>"
      ],
      "text/plain": [
       "games      7 Days to Die  APB Reloaded  ...  Zombie Panic Source  theHunter\n",
       "User_ID                                 ...                                \n",
       "100053304            NaN           NaN  ...                  NaN        NaN\n",
       "100057229            NaN           NaN  ...                  NaN        NaN\n",
       "100070732            NaN           NaN  ...                  NaN        NaN\n",
       "100096071            NaN           NaN  ...                  NaN        NaN\n",
       "100168166            NaN           NaN  ...                  NaN        NaN\n",
       "\n",
       "[5 rows x 427 columns]"
      ]
     },
     "execution_count": 11,
     "metadata": {},
     "output_type": "execute_result"
    }
   ],
   "source": [
    "#check shape of pivot table\n",
    "print(piv.shape)\n",
    "#check first five rows of pivot table\n",
    "piv.head()"
   ]
  },
  {
   "cell_type": "code",
   "execution_count": 12,
   "metadata": {
    "id": "Ms7p71YdUbLU"
   },
   "outputs": [],
   "source": [
    "## Note: As we are subtracting the mean from each rating to standardize\n",
    "##all users with only one rating or who had rated everything the same will be dropped\n",
    "\n",
    "# Normalize the values in pivot table\n",
    "piv_norm = piv.apply(lambda x: (x-np.mean(x))/(np.max(x)-np.min(x)), axis=1)\n",
    "\n",
    "\n",
    "# Drop all columns containing only zeros representing users who did not rate\n",
    "piv_norm.fillna(0, inplace=True)\n",
    "piv_norm = piv_norm.T\n",
    "piv_norm = piv_norm.loc[:, (piv_norm != 0).any(axis=0)]"
   ]
  },
  {
   "cell_type": "code",
   "execution_count": 13,
   "metadata": {
    "id": "inXGLPRdVJ5-"
   },
   "outputs": [],
   "source": [
    "# import scipy, operator\n",
    "import scipy as sp\n",
    "from sklearn.metrics.pairwise import cosine_similarity\n",
    "import operator"
   ]
  },
  {
   "cell_type": "code",
   "execution_count": 14,
   "metadata": {
    "id": "xpsBIdLbUbJn"
   },
   "outputs": [],
   "source": [
    "# convert the data into sparse matrix format to be read by the following functions\n",
    "\n",
    "piv_sparse = sp.sparse.csr_matrix(piv_norm.values)"
   ]
  },
  {
   "cell_type": "code",
   "execution_count": 15,
   "metadata": {
    "id": "161las8mUbGe"
   },
   "outputs": [],
   "source": [
    "# create matrices to show the computed cosine similarity values between each user/user array pair and item/item array pair.\n",
    "\n",
    "item_similarity = cosine_similarity(piv_sparse)\n",
    "user_similarity = cosine_similarity(piv_sparse.T)"
   ]
  },
  {
   "cell_type": "code",
   "execution_count": 16,
   "metadata": {
    "id": "JWrYUdrCUbEu"
   },
   "outputs": [],
   "source": [
    "# Inserting the similarity matricies into dataframe objects\n",
    "\n",
    "#item similarity dataframe\n",
    "item_sim_df = pd.DataFrame(item_similarity, index = piv_norm.index, columns = piv_norm.index)\n",
    "#user similarity dataframe\n",
    "user_sim_df = pd.DataFrame(user_similarity, index = piv_norm.columns, columns = piv_norm.columns)"
   ]
  },
  {
   "cell_type": "code",
   "execution_count": 17,
   "metadata": {
    "id": "VBSl_QsTUbCh"
   },
   "outputs": [],
   "source": [
    "# write a function which will return the top 10 games with the highest cosine similarity value\n",
    "\n",
    "def top_game(game):\n",
    "    count = 1\n",
    "    print('Similar games to {} include:\\n'.format(game))\n",
    "    for item in item_sim_df.sort_values(by = game, ascending = False).index[1:11]:\n",
    "        print('No. {}: {}'.format(count, item))\n",
    "        count +=1  "
   ]
  },
  {
   "cell_type": "code",
   "execution_count": 18,
   "metadata": {
    "colab": {
     "base_uri": "https://localhost:8080/"
    },
    "id": "JZ3vQNUQUbA9",
    "outputId": "e7141b30-85f0-4de8-feec-4a1820950704"
   },
   "outputs": [
    {
     "name": "stdout",
     "output_type": "stream",
     "text": [
      "Similar games to Aftermath include:\n",
      "\n",
      "No. 1: Alice Madness Returns\n",
      "No. 2: Shadow Warrior\n",
      "No. 3: Brtal Legend\n",
      "No. 4: Resident Evil 5 / Biohazard 5\n",
      "No. 5: Infestation Survivor Stories\n",
      "No. 6: Call of Juarez Gunslinger\n",
      "No. 7: The Walking Dead Season Two\n",
      "No. 8: Counter-Strike Nexon Zombies\n",
      "No. 9: Star Conflict\n",
      "No. 10: L.A. Noire\n"
     ]
    }
   ],
   "source": [
    "top_game('Aftermath')\n"
   ]
  },
  {
   "cell_type": "code",
   "execution_count": null,
   "metadata": {
    "colab": {
     "base_uri": "https://localhost:8080/"
    },
    "id": "0v0_2KKkW6BN",
    "outputId": "4e1e2aa5-42fe-4e8f-ed19-b175b32f2b41"
   },
   "outputs": [
    {
     "data": {
      "text/plain": [
       "Index(['100057229', '100096071', '100311267', '100322840', '100351493',\n",
       "       '100359523', '100431715', '100444456', '100519466', '100630947',\n",
       "       ...\n",
       "       '994489', '9946133', '99484728', '99640715', '99704390', '99711581',\n",
       "       '99713453', '99723205', '99766416', '99802512'],\n",
       "      dtype='object', name='User_ID', length=3056)"
      ]
     },
     "execution_count": 32,
     "metadata": {},
     "output_type": "execute_result"
    }
   ],
   "source": [
    "# check the column of pivot table\n",
    "piv_norm.columns"
   ]
  },
  {
   "cell_type": "code",
   "execution_count": 19,
   "metadata": {
    "id": "U6_RWwwWUa_b"
   },
   "outputs": [],
   "source": [
    "# write a function which will return the top 5 users with the highest similarity value \n",
    "\n",
    "def top_users(user):\n",
    "    \n",
    "    if user not in piv_norm.columns:\n",
    "        return('No data available on user {}'.format(user))\n",
    "    \n",
    "    print('Most Similar Users:\\n')\n",
    "    sim_values = user_sim_df.sort_values(by=user, ascending=False).loc[:,user].tolist()[1:11]\n",
    "    sim_users = user_sim_df.sort_values(by=user, ascending=False).index[1:11]\n",
    "    zipped = zip(sim_users, sim_values,)\n",
    "    for user, sim in zipped:\n",
    "        print('User #{0}, Similarity value: {1:.2f}'.format(user, sim)) "
   ]
  },
  {
   "cell_type": "code",
   "execution_count": null,
   "metadata": {
    "colab": {
     "base_uri": "https://localhost:8080/"
    },
    "id": "zgwURJjDUa84",
    "outputId": "9809d7dc-27bf-40af-a5fb-86682767dc5b"
   },
   "outputs": [
    {
     "name": "stdout",
     "output_type": "stream",
     "text": [
      "Most Similar Users:\n",
      "\n",
      "User #40289887, Similarity value: 0.73\n",
      "User #185494712, Similarity value: 0.71\n",
      "User #16710264, Similarity value: 0.71\n",
      "User #20566124, Similarity value: 0.67\n",
      "User #49769103, Similarity value: 0.67\n",
      "User #15702351, Similarity value: 0.65\n",
      "User #161139120, Similarity value: 0.59\n",
      "User #202057920, Similarity value: 0.58\n",
      "User #57271785, Similarity value: 0.58\n",
      "User #33993318, Similarity value: 0.58\n"
     ]
    }
   ],
   "source": [
    "top_users('99484728')"
   ]
  },
  {
   "cell_type": "code",
   "execution_count": 20,
   "metadata": {
    "id": "Ucy6tuedUa6N"
   },
   "outputs": [],
   "source": [
    "# write a function which constructs a list of lists containing the highest rated games per similar user\n",
    "# and returns the name of the game along with the frequency it appears in the list\n",
    "\n",
    "def similar_user_recs(user):\n",
    "    \n",
    "    if user not in piv_norm.columns:\n",
    "        return('No data available on user {}'.format(user))\n",
    "    \n",
    "    sim_users = user_sim_df.sort_values(by=user, ascending=False).index[1:11]\n",
    "    best = []\n",
    "    most_common = {}\n",
    "    \n",
    "    for i in sim_users:\n",
    "        max_score = piv_norm.loc[:, i].max()\n",
    "        best.append(piv_norm[piv_norm.loc[:, i]==max_score].index.tolist())\n",
    "    for i in range(len(best)):\n",
    "        for j in best[i]:\n",
    "            if j in most_common:\n",
    "                most_common[j] += 1\n",
    "            else:\n",
    "                most_common[j] = 1\n",
    "    sorted_list = sorted(most_common.items(), key=operator.itemgetter(1), reverse=True)\n",
    "    return sorted_list[:5]  "
   ]
  },
  {
   "cell_type": "code",
   "execution_count": 21,
   "metadata": {
    "colab": {
     "base_uri": "https://localhost:8080/"
    },
    "id": "ewOZTTgYUa4E",
    "outputId": "8abe8bca-1398-4183-f90b-594cc66d201d"
   },
   "outputs": [
    {
     "data": {
      "text/plain": [
       "[('Robocraft', 6),\n",
       " ('BLOCKADE 3D', 2),\n",
       " (\"Garry's Mod\", 2),\n",
       " ('ARK Survival Evolved', 1),\n",
       " ('Dino D-Day', 1)]"
      ]
     },
     "execution_count": 21,
     "metadata": {},
     "output_type": "execute_result"
    }
   ],
   "source": [
    "similar_user_recs('100519466')\n"
   ]
  },
  {
   "cell_type": "markdown",
   "metadata": {
    "id": "B-gp2ijmu1aS"
   },
   "source": [
    "# COLLABORATIVE FILTERING USING KNN\n",
    "\n",
    "Collaborative Filtering Using k-Nearest Neighbors (kNN). kNN is a machine learning algorithm to find clusters of similar users based on common ratings, and make predictions using the average rating of top-k nearest neighbors.\n",
    "\n",
    "https://datascienceplus.com/building-a-book-recommender-system-the-basics-knn-and-matrix-factorization/"
   ]
  },
  {
   "cell_type": "code",
   "execution_count": 30,
   "metadata": {
    "colab": {
     "base_uri": "https://localhost:8080/"
    },
    "id": "t1gOIvynUaxv",
    "outputId": "4c420faf-f57e-4411-b130-bfa0fccb61cc"
   },
   "outputs": [
    {
     "data": {
      "text/plain": [
       "NearestNeighbors(algorithm='brute', leaf_size=30, metric='cosine',\n",
       "                 metric_params=None, n_jobs=-1, n_neighbors=20, p=2,\n",
       "                 radius=1.0)"
      ]
     },
     "execution_count": 30,
     "metadata": {},
     "output_type": "execute_result"
    }
   ],
   "source": [
    "# import NearestNeighbors\n",
    "from sklearn.neighbors import NearestNeighbors\n",
    "#make an object for the NearestNeighbors Class.\n",
    "model_knn = NearestNeighbors(metric='cosine', algorithm='brute', n_neighbors=20, n_jobs=-1)\n",
    "# fit the dataset\n",
    "model_knn.fit(piv_norm)"
   ]
  },
  {
   "cell_type": "markdown",
   "metadata": {
    "id": "DUQpiGdRFP6w"
   },
   "source": [
    "\n",
    "Test model and make some recommendations:"
   ]
  },
  {
   "cell_type": "code",
   "execution_count": 39,
   "metadata": {
    "colab": {
     "base_uri": "https://localhost:8080/"
    },
    "id": "lYoqkJefFujG",
    "outputId": "8250f7c2-0fd6-48e7-8ca8-7f0a648843f5"
   },
   "outputs": [
    {
     "name": "stdout",
     "output_type": "stream",
     "text": [
      "Choosen game is:  Counter-Strike Condition Zero Deleted Scenes\n",
      "Recommendations for Counter-Strike Condition Zero Deleted Scenes:\n",
      "\n",
      "1: Fistful of Frags, with distance of 0.9569464262825205:\n",
      "2: Nosgoth, with distance of 0.9581430523545201:\n",
      "3: Counter-Strike Source, with distance of 0.958229847541747:\n",
      "4: Tom Clancy's Splinter Cell Conviction, with distance of 0.9597626751840649:\n",
      "5: Orcs Must Die!, with distance of 0.9647249846492842:\n"
     ]
    }
   ],
   "source": [
    "# choose random game\n",
    "query_index = np.random.choice(piv_norm.shape[0])\n",
    "# print the name of random game\n",
    "print(\"Choosen game is: \",piv_norm.index[query_index])\n",
    "\n",
    "# use kNN algorithm to measures distance to determine the closeness of instances.\n",
    "distances, indices = model_knn.kneighbors(piv_norm.iloc[query_index,:].values.reshape(1,-1), n_neighbors = 6)\n",
    "\n",
    "# pick most popular games among the neighbors and print their names\n",
    "for i in range(0, len(distances.flatten())):\n",
    "    if i == 0:\n",
    "        print('Recommendations for {0}:\\n'.format(piv_norm.index[query_index]))\n",
    "    else:\n",
    "        print('{0}: {1}, with distance of {2}:'.format(i, piv_norm.index[indices.flatten()[i]], distances.flatten()[i]))\n"
   ]
  },
  {
   "cell_type": "markdown",
   "metadata": {
    "id": "qQdGSocKKfYP"
   },
   "source": [
    "<b>Conclusion</b>\n",
    "\n",
    "We can use different different methods based on our problem statement and dataset. Here we used collaborative filtering technique to recommend games.We can use this method to recommend alot of other things as well such as music, movies, books, news etc. "
   ]
  }
 ],
 "metadata": {
  "colab": {
   "collapsed_sections": [],
   "name": "steam video game.ipynb",
   "provenance": []
  },
  "kernelspec": {
   "display_name": "Python 3",
   "language": "python",
   "name": "python3"
  },
  "language_info": {
   "codemirror_mode": {
    "name": "ipython",
    "version": 3
   },
   "file_extension": ".py",
   "mimetype": "text/x-python",
   "name": "python",
   "nbconvert_exporter": "python",
   "pygments_lexer": "ipython3",
   "version": "3.8.5"
  }
 },
 "nbformat": 4,
 "nbformat_minor": 1
}
